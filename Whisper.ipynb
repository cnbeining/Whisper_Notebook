{
  "nbformat": 4,
  "nbformat_minor": 0,
  "metadata": {
    "colab": {
      "provenance": [],
      "collapsed_sections": []
    },
    "kernelspec": {
      "name": "python3",
      "display_name": "Python 3"
    },
    "language_info": {
      "name": "python"
    },
    "accelerator": "GPU",
    "widgets": {
      "application/vnd.jupyter.widget-state+json": {
        "b95604e39a3f429fb46401cf3e12c94d": {
          "model_module": "@jupyter-widgets/controls",
          "model_name": "HBoxModel",
          "model_module_version": "1.5.0",
          "state": {
            "_dom_classes": [],
            "_model_module": "@jupyter-widgets/controls",
            "_model_module_version": "1.5.0",
            "_model_name": "HBoxModel",
            "_view_count": null,
            "_view_module": "@jupyter-widgets/controls",
            "_view_module_version": "1.5.0",
            "_view_name": "HBoxView",
            "box_style": "",
            "children": [
              "IPY_MODEL_97c4e30b699b456387cff726d0b856c9",
              "IPY_MODEL_f9a0e48186cd4736b2121006e6adf8df",
              "IPY_MODEL_139d1b605a8b4f7aa5285a1db5eb7ea3"
            ],
            "layout": "IPY_MODEL_211aacaac0e8469a826a9ed1d9efa2ad"
          }
        },
        "97c4e30b699b456387cff726d0b856c9": {
          "model_module": "@jupyter-widgets/controls",
          "model_name": "HTMLModel",
          "model_module_version": "1.5.0",
          "state": {
            "_dom_classes": [],
            "_model_module": "@jupyter-widgets/controls",
            "_model_module_version": "1.5.0",
            "_model_name": "HTMLModel",
            "_view_count": null,
            "_view_module": "@jupyter-widgets/controls",
            "_view_module_version": "1.5.0",
            "_view_name": "HTMLView",
            "description": "",
            "description_tooltip": null,
            "layout": "IPY_MODEL_cabd9d1c6bcc40f99f1cb02911203c2a",
            "placeholder": "​",
            "style": "IPY_MODEL_c4659d9dfd6048d5bf5694c0892152dd",
            "value": "100%"
          }
        },
        "f9a0e48186cd4736b2121006e6adf8df": {
          "model_module": "@jupyter-widgets/controls",
          "model_name": "FloatProgressModel",
          "model_module_version": "1.5.0",
          "state": {
            "_dom_classes": [],
            "_model_module": "@jupyter-widgets/controls",
            "_model_module_version": "1.5.0",
            "_model_name": "FloatProgressModel",
            "_view_count": null,
            "_view_module": "@jupyter-widgets/controls",
            "_view_module_version": "1.5.0",
            "_view_name": "ProgressView",
            "bar_style": "success",
            "description": "",
            "description_tooltip": null,
            "layout": "IPY_MODEL_40a9735d4b7a4cd5be73fd977a78fa42",
            "max": 10,
            "min": 0,
            "orientation": "horizontal",
            "style": "IPY_MODEL_cb41a7457f6a4512b9f35c5ed578d2a6",
            "value": 10
          }
        },
        "139d1b605a8b4f7aa5285a1db5eb7ea3": {
          "model_module": "@jupyter-widgets/controls",
          "model_name": "HTMLModel",
          "model_module_version": "1.5.0",
          "state": {
            "_dom_classes": [],
            "_model_module": "@jupyter-widgets/controls",
            "_model_module_version": "1.5.0",
            "_model_name": "HTMLModel",
            "_view_count": null,
            "_view_module": "@jupyter-widgets/controls",
            "_view_module_version": "1.5.0",
            "_view_name": "HTMLView",
            "description": "",
            "description_tooltip": null,
            "layout": "IPY_MODEL_198539b064294aed8fdcbd9180fe22e4",
            "placeholder": "​",
            "style": "IPY_MODEL_c32f50503efc4f588f1dd4f7b6ed10f0",
            "value": " 10/10 [00:04&lt;00:00,  2.60it/s]"
          }
        },
        "211aacaac0e8469a826a9ed1d9efa2ad": {
          "model_module": "@jupyter-widgets/base",
          "model_name": "LayoutModel",
          "model_module_version": "1.2.0",
          "state": {
            "_model_module": "@jupyter-widgets/base",
            "_model_module_version": "1.2.0",
            "_model_name": "LayoutModel",
            "_view_count": null,
            "_view_module": "@jupyter-widgets/base",
            "_view_module_version": "1.2.0",
            "_view_name": "LayoutView",
            "align_content": null,
            "align_items": null,
            "align_self": null,
            "border": null,
            "bottom": null,
            "display": null,
            "flex": null,
            "flex_flow": null,
            "grid_area": null,
            "grid_auto_columns": null,
            "grid_auto_flow": null,
            "grid_auto_rows": null,
            "grid_column": null,
            "grid_gap": null,
            "grid_row": null,
            "grid_template_areas": null,
            "grid_template_columns": null,
            "grid_template_rows": null,
            "height": null,
            "justify_content": null,
            "justify_items": null,
            "left": null,
            "margin": null,
            "max_height": null,
            "max_width": null,
            "min_height": null,
            "min_width": null,
            "object_fit": null,
            "object_position": null,
            "order": null,
            "overflow": null,
            "overflow_x": null,
            "overflow_y": null,
            "padding": null,
            "right": null,
            "top": null,
            "visibility": null,
            "width": null
          }
        },
        "cabd9d1c6bcc40f99f1cb02911203c2a": {
          "model_module": "@jupyter-widgets/base",
          "model_name": "LayoutModel",
          "model_module_version": "1.2.0",
          "state": {
            "_model_module": "@jupyter-widgets/base",
            "_model_module_version": "1.2.0",
            "_model_name": "LayoutModel",
            "_view_count": null,
            "_view_module": "@jupyter-widgets/base",
            "_view_module_version": "1.2.0",
            "_view_name": "LayoutView",
            "align_content": null,
            "align_items": null,
            "align_self": null,
            "border": null,
            "bottom": null,
            "display": null,
            "flex": null,
            "flex_flow": null,
            "grid_area": null,
            "grid_auto_columns": null,
            "grid_auto_flow": null,
            "grid_auto_rows": null,
            "grid_column": null,
            "grid_gap": null,
            "grid_row": null,
            "grid_template_areas": null,
            "grid_template_columns": null,
            "grid_template_rows": null,
            "height": null,
            "justify_content": null,
            "justify_items": null,
            "left": null,
            "margin": null,
            "max_height": null,
            "max_width": null,
            "min_height": null,
            "min_width": null,
            "object_fit": null,
            "object_position": null,
            "order": null,
            "overflow": null,
            "overflow_x": null,
            "overflow_y": null,
            "padding": null,
            "right": null,
            "top": null,
            "visibility": null,
            "width": null
          }
        },
        "c4659d9dfd6048d5bf5694c0892152dd": {
          "model_module": "@jupyter-widgets/controls",
          "model_name": "DescriptionStyleModel",
          "model_module_version": "1.5.0",
          "state": {
            "_model_module": "@jupyter-widgets/controls",
            "_model_module_version": "1.5.0",
            "_model_name": "DescriptionStyleModel",
            "_view_count": null,
            "_view_module": "@jupyter-widgets/base",
            "_view_module_version": "1.2.0",
            "_view_name": "StyleView",
            "description_width": ""
          }
        },
        "40a9735d4b7a4cd5be73fd977a78fa42": {
          "model_module": "@jupyter-widgets/base",
          "model_name": "LayoutModel",
          "model_module_version": "1.2.0",
          "state": {
            "_model_module": "@jupyter-widgets/base",
            "_model_module_version": "1.2.0",
            "_model_name": "LayoutModel",
            "_view_count": null,
            "_view_module": "@jupyter-widgets/base",
            "_view_module_version": "1.2.0",
            "_view_name": "LayoutView",
            "align_content": null,
            "align_items": null,
            "align_self": null,
            "border": null,
            "bottom": null,
            "display": null,
            "flex": null,
            "flex_flow": null,
            "grid_area": null,
            "grid_auto_columns": null,
            "grid_auto_flow": null,
            "grid_auto_rows": null,
            "grid_column": null,
            "grid_gap": null,
            "grid_row": null,
            "grid_template_areas": null,
            "grid_template_columns": null,
            "grid_template_rows": null,
            "height": null,
            "justify_content": null,
            "justify_items": null,
            "left": null,
            "margin": null,
            "max_height": null,
            "max_width": null,
            "min_height": null,
            "min_width": null,
            "object_fit": null,
            "object_position": null,
            "order": null,
            "overflow": null,
            "overflow_x": null,
            "overflow_y": null,
            "padding": null,
            "right": null,
            "top": null,
            "visibility": null,
            "width": null
          }
        },
        "cb41a7457f6a4512b9f35c5ed578d2a6": {
          "model_module": "@jupyter-widgets/controls",
          "model_name": "ProgressStyleModel",
          "model_module_version": "1.5.0",
          "state": {
            "_model_module": "@jupyter-widgets/controls",
            "_model_module_version": "1.5.0",
            "_model_name": "ProgressStyleModel",
            "_view_count": null,
            "_view_module": "@jupyter-widgets/base",
            "_view_module_version": "1.2.0",
            "_view_name": "StyleView",
            "bar_color": null,
            "description_width": ""
          }
        },
        "198539b064294aed8fdcbd9180fe22e4": {
          "model_module": "@jupyter-widgets/base",
          "model_name": "LayoutModel",
          "model_module_version": "1.2.0",
          "state": {
            "_model_module": "@jupyter-widgets/base",
            "_model_module_version": "1.2.0",
            "_model_name": "LayoutModel",
            "_view_count": null,
            "_view_module": "@jupyter-widgets/base",
            "_view_module_version": "1.2.0",
            "_view_name": "LayoutView",
            "align_content": null,
            "align_items": null,
            "align_self": null,
            "border": null,
            "bottom": null,
            "display": null,
            "flex": null,
            "flex_flow": null,
            "grid_area": null,
            "grid_auto_columns": null,
            "grid_auto_flow": null,
            "grid_auto_rows": null,
            "grid_column": null,
            "grid_gap": null,
            "grid_row": null,
            "grid_template_areas": null,
            "grid_template_columns": null,
            "grid_template_rows": null,
            "height": null,
            "justify_content": null,
            "justify_items": null,
            "left": null,
            "margin": null,
            "max_height": null,
            "max_width": null,
            "min_height": null,
            "min_width": null,
            "object_fit": null,
            "object_position": null,
            "order": null,
            "overflow": null,
            "overflow_x": null,
            "overflow_y": null,
            "padding": null,
            "right": null,
            "top": null,
            "visibility": null,
            "width": null
          }
        },
        "c32f50503efc4f588f1dd4f7b6ed10f0": {
          "model_module": "@jupyter-widgets/controls",
          "model_name": "DescriptionStyleModel",
          "model_module_version": "1.5.0",
          "state": {
            "_model_module": "@jupyter-widgets/controls",
            "_model_module_version": "1.5.0",
            "_model_name": "DescriptionStyleModel",
            "_view_count": null,
            "_view_module": "@jupyter-widgets/base",
            "_view_module_version": "1.2.0",
            "_view_name": "StyleView",
            "description_width": ""
          }
        }
      }
    }
  },
  "cells": [
    {
      "cell_type": "markdown",
      "source": [
        "# Machine Transcription and Translation\n",
        "\n",
        "AdvancedCI.\n",
        "\n",
        "For technical assistance contact beining@chineseaci.com . "
      ],
      "metadata": {
        "id": "HI7DyiYyISiX"
      }
    },
    {
      "cell_type": "markdown",
      "source": [
        "## Step 1: Install\n",
        "\n",
        "Execute all steps."
      ],
      "metadata": {
        "id": "lHoxaZlqyDj0"
      }
    },
    {
      "cell_type": "code",
      "source": [
        "#@title Step 1.1: GPU Model\n",
        "!nvidia-smi"
      ],
      "metadata": {
        "id": "kMhIEBat6r8H",
        "colab": {
          "base_uri": "https://localhost:8080/"
        },
        "outputId": "ce98a84e-e647-4cd7-81c3-73b43d61d168"
      },
      "execution_count": null,
      "outputs": [
        {
          "output_type": "stream",
          "name": "stdout",
          "text": [
            "Sat Oct  8 04:14:14 2022       \n",
            "+-----------------------------------------------------------------------------+\n",
            "| NVIDIA-SMI 460.32.03    Driver Version: 460.32.03    CUDA Version: 11.2     |\n",
            "|-------------------------------+----------------------+----------------------+\n",
            "| GPU  Name        Persistence-M| Bus-Id        Disp.A | Volatile Uncorr. ECC |\n",
            "| Fan  Temp  Perf  Pwr:Usage/Cap|         Memory-Usage | GPU-Util  Compute M. |\n",
            "|                               |                      |               MIG M. |\n",
            "|===============================+======================+======================|\n",
            "|   0  Tesla T4            Off  | 00000000:00:04.0 Off |                    0 |\n",
            "| N/A   46C    P0    26W /  70W |   5926MiB / 15109MiB |      0%      Default |\n",
            "|                               |                      |                  N/A |\n",
            "+-------------------------------+----------------------+----------------------+\n",
            "                                                                               \n",
            "+-----------------------------------------------------------------------------+\n",
            "| Processes:                                                                  |\n",
            "|  GPU   GI   CI        PID   Type   Process name                  GPU Memory |\n",
            "|        ID   ID                                                   Usage      |\n",
            "|=============================================================================|\n",
            "+-----------------------------------------------------------------------------+\n"
          ]
        }
      ]
    },
    {
      "cell_type": "markdown",
      "source": [
        "You need a GPU with minimal 11GiB VRAM: if not, turn it on under \"Runtime - Change Runtime Type\"."
      ],
      "metadata": {
        "id": "A6jAslpa5KJF"
      }
    },
    {
      "cell_type": "code",
      "execution_count": null,
      "metadata": {
        "id": "TplEr5iz15WI",
        "cellView": "form"
      },
      "outputs": [],
      "source": [
        "#@title Step 1.2 Install packages - takes ~2 mins\n",
        "!pip install srt requests tqdm git+https://github.com/openai/whisper.git --quiet"
      ]
    },
    {
      "cell_type": "markdown",
      "source": [
        "## Step 2: Setup Model"
      ],
      "metadata": {
        "id": "sa8UQiB7yHPM"
      }
    },
    {
      "cell_type": "code",
      "source": [
        "#@title Step 2.1: Import model\n",
        "# setup model\n",
        "import whisper"
      ],
      "metadata": {
        "id": "d74ZyGOE2ec8",
        "cellView": "form"
      },
      "execution_count": null,
      "outputs": []
    },
    {
      "cell_type": "code",
      "source": [],
      "metadata": {
        "id": "Ioci3nbH5_W5"
      },
      "execution_count": null,
      "outputs": []
    },
    {
      "cell_type": "code",
      "source": [
        "#@title Step 2.2: Select and load Model.\n",
        "model_name = 'medium.en' #@param [\"tiny\", \"small\", \"medium\", \"large\", \"tiny.en\", \"small.en\", \"medium.en\"]\n",
        "\n",
        "model = whisper.load_model(\"medium.en\")"
      ],
      "metadata": {
        "id": "YeQKNVCt-t4y",
        "colab": {
          "base_uri": "https://localhost:8080/"
        },
        "outputId": "7ed34d25-c18a-407f-d79b-666111ac988c",
        "cellView": "form"
      },
      "execution_count": null,
      "outputs": [
        {
          "output_type": "stream",
          "name": "stderr",
          "text": [
            "100%|█████████████████████████████████████| 1.42G/1.42G [00:55<00:00, 27.5MiB/s]\n"
          ]
        }
      ]
    },
    {
      "cell_type": "markdown",
      "source": [
        "\n",
        "`medium.en` should strike a balance for English based audio. Colab should have enough VRAM for any model selected on *any* GPU provided, including `large`.\n",
        "\n",
        "Disconnect and reconnect if you change the model in the middle of execution(and only do so if you know what you are doing) to avoid VRAM OOM. All progress and uploaded/generated files shall be lost.\n",
        "\n",
        "Select desired model and run the cell above. It takes ~3 mins to download the `medium` model: move to Step 3 while waiting."
      ],
      "metadata": {
        "id": "X7UQjjI15j8A"
      }
    },
    {
      "cell_type": "markdown",
      "source": [
        "## Step 3: Prepare audio for transcription\n",
        "\n",
        "### Step 3.1: Convert video to audio\n",
        "\n",
        "While you are waiting(download takes ~2 mins) convert original video to MP3 with `FFmpeg` by running:\n",
        "\n",
        "`ffmpeg -i Air_Crash_Investigation_S22E071.mp4 -vn -c:a libmp3lame aci.mp3`\n",
        "\n",
        "or use GUI tools like \n",
        "\n",
        "- `Maruko Toolbox` (Windows only): https://maruko.appinn.me/ \n",
        "- `Handbrake` for all platforms: https://handbrake.fr/downloads.php .\n",
        "\n",
        "_ACICFG has sponsorship relationship with `Maruko Toolbox`._\n",
        "\n",
        "#### Alternatively (highly discouraged): \n",
        "\n",
        "FFmpeg is instlled on Colab: If uploading video use the following command to convert on the colab instance: \n",
        "`ffmpeg -i aci.mp4 -vn -c:a libmp3lame aci.mp3`\n"
      ],
      "metadata": {
        "id": "92nhQ9Fr8eaq"
      }
    },
    {
      "cell_type": "markdown",
      "source": [
        "### Step 3.2: Upload audio file to Colab\n",
        "\n",
        "Rename the file to something benign - without space or any special character.\n",
        "\n",
        "Click the \"file\" icon on the left, click the \"upload to session storage\" button to upload the audio file.\n",
        "\n",
        "Input the exact name of your uploaded file to the field below. Select the main language of the audio.\n",
        "\n",
        "**NOTE: All uploaded and generated files are strictly for this session and shall be deleted when you disconnect from the instance - no recovery possible!**\n",
        "\n",
        "Type in the name of the audio file you uploaded below, should be ending with `.mp3` and select language of your audio file."
      ],
      "metadata": {
        "id": "fcGOFcaBCIRA"
      }
    },
    {
      "cell_type": "code",
      "source": [
        "audio_file_name = 'bb.mp3' #@param {type:\"string\"}\n",
        "audio_file_language = 'english' #@param ['english', 'chinese', 'german', 'spanish', 'russian', 'korean', 'french', 'japanese', 'portuguese', 'turkish', 'polish', 'catalan', 'dutch', 'arabic', 'swedish', 'italian', 'indonesian', 'hindi', 'finnish', 'vietnamese', 'hebrew', 'ukrainian', 'greek', 'malay', 'czech', 'romanian', 'danish', 'hungarian', 'tamil', 'norwegian', 'thai', 'urdu', 'croatian', 'bulgarian', 'lithuanian', 'latin', 'maori', 'malayalam', 'welsh', 'slovak', 'telugu', 'persian', 'latvian', 'bengali', 'serbian', 'azerbaijani', 'slovenian', 'kannada', 'estonian', 'macedonian', 'breton', 'basque', 'icelandic', 'armenian', 'nepali', 'mongolian', 'bosnian', 'kazakh', 'albanian', 'swahili', 'galician', 'marathi', 'punjabi', 'sinhala', 'khmer', 'shona', 'yoruba', 'somali', 'afrikaans', 'occitan', 'georgian', 'belarusian', 'tajik', 'sindhi', 'gujarati', 'amharic', 'yiddish', 'lao', 'uzbek', 'faroese', 'haitian creole', 'pashto', 'turkmen', 'nynorsk', 'maltese', 'sanskrit', 'luxembourgish', 'myanmar', 'tibetan', 'tagalog', 'malagasy', 'assamese', 'tatar', 'hawaiian', 'lingala', 'hausa', 'bashkir', 'javanese', 'sundanese']\n"
      ],
      "metadata": {
        "id": "3xiNqSRr_t_C"
      },
      "execution_count": null,
      "outputs": []
    },
    {
      "cell_type": "markdown",
      "source": [
        "## Step 4: Transcribe!\n",
        "\n",
        "Execute the step below.\n",
        "\n",
        "Expected speed for `medium.en` model is ~5X on T4 - aka 45 min episode should take ~8 mins. Larger model shall take longer to process\n",
        "\n",
        "Wait till the process is finished.\n"
      ],
      "metadata": {
        "id": "BfuNhTgSDLTP"
      }
    },
    {
      "cell_type": "code",
      "source": [
        "#@title Transcribe the audio file\n",
        "# Do the work\n",
        "# Speed for medium.en is 5X on T4 - aka 45 min episode should take ~8 mins\n",
        "result = model.transcribe(audio_file_name, language=audio_file_language, verbose=True)"
      ],
      "metadata": {
        "id": "1JJ0AvEd2lrd",
        "colab": {
          "base_uri": "https://localhost:8080/"
        },
        "outputId": "e13ce734-b573-4c6f-e5b2-8030b22ad6a6",
        "cellView": "form"
      },
      "execution_count": null,
      "outputs": [
        {
          "output_type": "stream",
          "name": "stdout",
          "text": [
            "[00:00.000 --> 00:24.400]  What the hell is this?\n",
            "[00:24.400 --> 00:25.400]  Tribal police?\n",
            "[00:25.400 --> 00:31.400]  Paige! Paige! Paige!\n",
            "[00:31.400 --> 00:49.400]  No!\n",
            "[00:49.400 --> 01:01.400]  Police! Drop your weapons!\n",
            "[01:01.400 --> 01:04.400]  Jack! Don't do it!\n",
            "[01:04.400 --> 01:08.400]  Jack!\n",
            "[01:08.400 --> 01:26.400]  Drop your weapons!\n",
            "[01:38.400 --> 02:01.400]  Jack!\n",
            "[02:01.400 --> 02:11.400]  No!\n"
          ]
        }
      ]
    },
    {
      "cell_type": "markdown",
      "source": [
        "## Step 5: Collect results\n",
        "\n",
        "### Step 5.1: Convert transcription to SRT\n",
        "\n",
        "Execute the 3 cells below to peek the result."
      ],
      "metadata": {
        "id": "nlEdUxxYEVYu"
      }
    },
    {
      "cell_type": "code",
      "source": [
        "#@title Import packages\n",
        "import srt\n",
        "from datetime import timedelta"
      ],
      "metadata": {
        "id": "_Nga8Yb86rNN",
        "cellView": "form"
      },
      "execution_count": null,
      "outputs": []
    },
    {
      "cell_type": "code",
      "source": [
        "#@title Create SRT with transcription\n",
        "result_srt_list = []\n",
        "for i in result['segments']:\n",
        "    result_srt_list.append(srt.Subtitle(index=i['id'], start=timedelta(seconds=i['start']), end=timedelta(seconds=i['end']), content=i['text'].strip()))\n",
        "\n",
        "composed_transcription = srt.compose(result_srt_list)"
      ],
      "metadata": {
        "id": "VCzGMwMX7wr5",
        "cellView": "form"
      },
      "execution_count": null,
      "outputs": []
    },
    {
      "cell_type": "code",
      "source": [
        "#@title Optional: Peek the transcription SRT file\n",
        "print(composed_transcription)"
      ],
      "metadata": {
        "id": "SX6AkFy-8Eeb"
      },
      "execution_count": null,
      "outputs": []
    },
    {
      "cell_type": "markdown",
      "source": [
        "### Step 5.2: Generate and download transcribed srt\n",
        "\n",
        "Input desired name of the file for transcribed srt below, and execute the 2 cells below."
      ],
      "metadata": {
        "id": "1JryIK88FQdf"
      }
    },
    {
      "cell_type": "code",
      "source": [
        "#@title Name of the transcribed srt to generate, should be ending with `.srt`\n",
        "\n",
        "transcribed_srt_name = 'transcribed.srt' #@param {type:\"string\"}\n"
      ],
      "metadata": {
        "cellView": "form",
        "id": "K25EppP9E8BH"
      },
      "execution_count": null,
      "outputs": []
    },
    {
      "cell_type": "code",
      "source": [
        "#@title Write the SRT\n",
        "with open(transcribed_srt_name, 'w') as f:\n",
        "    f.write(composed_transcription)"
      ],
      "metadata": {
        "id": "01iQogrR9Z8r",
        "cellView": "form"
      },
      "execution_count": null,
      "outputs": []
    },
    {
      "cell_type": "markdown",
      "source": [
        "You should see a `srt` file generated with desired name: right click and download the file."
      ],
      "metadata": {
        "id": "Vvo-6fLBFrEb"
      }
    },
    {
      "cell_type": "markdown",
      "source": [
        "## Step 6: Translate\n",
        "\n",
        "### Step 6.1: Execute translation\n",
        "\n",
        "We will use DeepL's undocumented API for translation.\n",
        "\n",
        "Execute the 3 cells below."
      ],
      "metadata": {
        "id": "qPUPjkxF6cxD"
      }
    },
    {
      "cell_type": "code",
      "source": [
        "#@title 6.1.1 Import packages\n",
        "import requests\n",
        "from tqdm.notebook import tqdm\n",
        "from tqdm.contrib.concurrent import process_map  # or thread_map"
      ],
      "metadata": {
        "id": "WNRYpRhxyMuU",
        "cellView": "form"
      },
      "execution_count": null,
      "outputs": []
    },
    {
      "cell_type": "code",
      "source": [
        "#@title 6.1.2 Setup Variables: Thread Number, Source Language, Target Language\n",
        "\n",
        "result_list_translated = []\n",
        "result_list_assembled = []\n",
        "s = requests.Session()\n",
        "\n",
        "thread_num = 8 #@param [1, 2, 4, 6, 8, 12, 16]\n",
        "source_lang = \"auto\" #@param [\"auto\", \"BG\", \"CS\", \"DA\", \"DE\", \"EL\", \"EN\", \"EN-GB\", \"EN-US\", \"ES\", \"ET\", \"FI\", \"FR\", \"HU\", \"ID\", \"IT\", \"JA\", \"LT\", \"LV\", \"NL\", \"PL\", \"PT\", \"PT-BR\", \"PT-PT\", \"RO\", \"RU\", \"SK\", \"SL\", \"SV\", \"TR\", \"UK\", \"ZH\"]\n",
        "target_lang = \"ZH\" #@param [\"BG\", \"CS\", \"DA\", \"DE\", \"EL\", \"EN\", \"EN-GB\", \"EN-US\", \"ES\", \"ET\", \"FI\", \"FR\", \"HU\", \"ID\", \"IT\", \"JA\", \"LT\", \"LV\", \"NL\", \"PL\", \"PT\", \"PT-BR\", \"PT-PT\", \"RO\", \"RU\", \"SK\", \"SL\", \"SV\", \"TR\", \"UK\", \"ZH\"]"
      ],
      "metadata": {
        "cellView": "form",
        "id": "7BYO1w1MyKUZ"
      },
      "execution_count": null,
      "outputs": []
    },
    {
      "cell_type": "code",
      "source": [
        "#@title 6.1.3 Setup DeepL\n",
        "\n",
        "def translate_via_deepl(content):\n",
        "    try:\n",
        "        resp = s.post('https://deepl.cnbeining.com/translate', json={\"text\": content, \"source_lang\": \"auto\", \"target_lang\": \"ZH\"}).json()\n",
        "    except Exception as e:\n",
        "        print(line)\n",
        "        print(e)\n",
        "        if resp['code'] != 200:\n",
        "            print('Error calling API: ' + resp['msg'])\n",
        "        return [content, content]\n",
        "\n",
        "    return [content, f\"{resp['data']}\\n{content}\"]"
      ],
      "metadata": {
        "cellView": "form",
        "id": "00_Zc5L-vBmh"
      },
      "execution_count": null,
      "outputs": []
    },
    {
      "cell_type": "code",
      "source": [
        "#@title 6.1.4 Call DeepL API for translation: ~2 lines/sec\n",
        "result = process_map(translate_via_deepl, [line['text'].strip() for line in result['segments']], max_workers=8)"
      ],
      "metadata": {
        "colab": {
          "base_uri": "https://localhost:8080/",
          "height": 49,
          "referenced_widgets": [
            "b95604e39a3f429fb46401cf3e12c94d",
            "97c4e30b699b456387cff726d0b856c9",
            "f9a0e48186cd4736b2121006e6adf8df",
            "139d1b605a8b4f7aa5285a1db5eb7ea3",
            "211aacaac0e8469a826a9ed1d9efa2ad",
            "cabd9d1c6bcc40f99f1cb02911203c2a",
            "c4659d9dfd6048d5bf5694c0892152dd",
            "40a9735d4b7a4cd5be73fd977a78fa42",
            "cb41a7457f6a4512b9f35c5ed578d2a6",
            "198539b064294aed8fdcbd9180fe22e4",
            "c32f50503efc4f588f1dd4f7b6ed10f0"
          ]
        },
        "cellView": "form",
        "id": "FLD1zhoRvywQ",
        "outputId": "6240929e-06e7-437f-f678-0da210a32c5a"
      },
      "execution_count": null,
      "outputs": [
        {
          "output_type": "display_data",
          "data": {
            "text/plain": [
              "  0%|          | 0/10 [00:00<?, ?it/s]"
            ],
            "application/vnd.jupyter.widget-view+json": {
              "version_major": 2,
              "version_minor": 0,
              "model_id": "b95604e39a3f429fb46401cf3e12c94d"
            }
          },
          "metadata": {}
        }
      ]
    },
    {
      "cell_type": "markdown",
      "source": [
        "### 6.1.6 Assemble results"
      ],
      "metadata": {
        "id": "s4vmgddw1L4n"
      }
    },
    {
      "cell_type": "code",
      "source": [
        "#@title Create versions of SRT\n",
        "\n",
        "for i in result:\n",
        "    result_list_translated.append(i[0])\n",
        "    result_list_assembled.append(i[1])\n",
        "\n",
        "result_srt_list_translated = []\n",
        "\n",
        "for i, v in enumerate(result['segments']):\n",
        "    result_srt_list_translated.append(srt.Subtitle(index=v['id'], start=timedelta(seconds=v['start']), end=timedelta(seconds=v['end']), content=result_list_translated[i]))\n",
        "\n",
        "result_srt_list_assembled = []\n",
        "\n",
        "for i, v in enumerate(result['segments']):\n",
        "    result_srt_list_assembled.append(srt.Subtitle(index=v['id'], start=timedelta(seconds=v['start']), end=timedelta(seconds=v['end']), content=result_list_assembled[i]))\n",
        "\n",
        "composed_transcription_translated = srt.compose(result_srt_list_translated)\n",
        "composed_transcription_assembled = srt.compose(result_srt_list_assembled)"
      ],
      "metadata": {
        "id": "VuO7n7Xa7myj",
        "cellView": "form"
      },
      "execution_count": null,
      "outputs": []
    },
    {
      "cell_type": "code",
      "source": [
        "#@title Optional: Remove special characters according to ACICFG's standard\n",
        "composed_transcription_translated = composed_transcription_translated.replace(\"。\", \"\").replace(\"，\", \" \")\n",
        "composed_transcription_assembled = composed_transcription_assembled.replace(\"。\", \"\").replace(\"，\", \" \")"
      ],
      "metadata": {
        "cellView": "form",
        "id": "rB7nbskj1q0a"
      },
      "execution_count": null,
      "outputs": []
    },
    {
      "cell_type": "code",
      "source": [
        "#@title Optional: Execute the cell below to peak the assembled results.\n",
        "print(composed_transcription_assembled)"
      ],
      "metadata": {
        "id": "U6sRoWmS6nl9",
        "cellView": "form"
      },
      "execution_count": null,
      "outputs": []
    },
    {
      "cell_type": "markdown",
      "source": [
        "### Step 6.2: Collect translated results\n",
        "\n",
        "Toggle the selection to generate Assembled SRT(Translation - Transcription) rather than Translated SRT(Translation only); \n",
        "\n",
        "Also change the desired filename below. \n",
        "\n",
        "Execute the 2 cells below and collect generated SRT file on the left."
      ],
      "metadata": {
        "id": "dOFXpCWoGyDW"
      }
    },
    {
      "cell_type": "code",
      "source": [
        "#@title Generation Settings\n",
        "\n",
        "translated_result_filename = 'translated.srt' #@param {type:\"string\"}\n",
        "is_generate_assembled_srt = True #@param {type:\"boolean\"}\n",
        "\n"
      ],
      "metadata": {
        "id": "AXiNKyozHCD7",
        "cellView": "form"
      },
      "execution_count": null,
      "outputs": []
    },
    {
      "cell_type": "code",
      "source": [
        "#@title Generate SRT\n",
        "with open(translated_result_filename, 'w') as f:\n",
        "    if is_generate_assembled_srt:\n",
        "        f.write(composed_transcription_assembled)\n",
        "    else:\n",
        "        f.write(composed_transcription_translated)"
      ],
      "metadata": {
        "id": "UZiIzlfk-E_Z",
        "cellView": "form"
      },
      "execution_count": null,
      "outputs": []
    },
    {
      "cell_type": "markdown",
      "source": [
        "## Recycle\n",
        "\n",
        "Recycle bin for code snippets: None of them should be necessary for ordinary users."
      ],
      "metadata": {
        "id": "20iTDUQiy-GT"
      }
    },
    {
      "cell_type": "code",
      "source": [
        "#@title Unused: Single Threaded version\n",
        "\n",
        "\n",
        "with tqdm(total=len(result['segments'])) as pbar:\n",
        "    for line in result['segments']:\n",
        "        content = line['text'].strip()\n",
        "        try:\n",
        "            resp = s.post('https://deepl.cnbeining.com/translate', json={\"text\": content, \"source_lang\": \"auto\", \"target_lang\": \"ZH\"}).json()\n",
        "            result_list_translated.append(resp['data'])\n",
        "\n",
        "        except Exception as e:\n",
        "            print(line)\n",
        "            print(e)\n",
        "            if resp['code'] != 200:\n",
        "                print('Error calling API: ' + resp['msg'])\n",
        "            result_list_translated.append(content)\n",
        "            result_list_assembled.append(content)\n",
        "            continue\n",
        "\n",
        "\n",
        "        result_list_translated.append(resp['data'])\n",
        "        result_list_assembled.append(f\"{resp['data']}\\n{content}\")\n",
        "\n",
        "        pbar.update(1)\n"
      ],
      "metadata": {
        "cellView": "form",
        "id": "whqmsENJzG1X"
      },
      "execution_count": null,
      "outputs": []
    }
  ]
}